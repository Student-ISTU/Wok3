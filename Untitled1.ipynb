{
 "cells": [
  {
   "cell_type": "code",
   "execution_count": 1,
   "metadata": {},
   "outputs": [
    {
     "name": "stdout",
     "output_type": "stream",
     "text": [
      "Harry\n",
      "Hello, Harry!\n"
     ]
    }
   ],
   "source": [
    "#Задача 1\n",
    "s = input()\n",
    "s = \"Hello, \"+s+\"!\"\n",
    "print(s)"
   ]
  },
  {
   "cell_type": "code",
   "execution_count": 2,
   "metadata": {},
   "outputs": [
    {
     "name": "stdout",
     "output_type": "stream",
     "text": [
      "2\n",
      "   _~_       _~_   \n",
      "  (o o)     (o o)  \n",
      " /  V  \\   /  V  \\ \n",
      "/(  _  )\\ /(  _  )\\\n",
      "  ^^ ^^     ^^ ^^  \n"
     ]
    }
   ],
   "source": [
    "#Задача 2\n",
    "x = input()\n",
    "n = int(x)\n",
    "s1 = \"   _~_   \"\n",
    "s2 = \"  (o o)  \"\n",
    "s3 = \" /  V  \\\\ \"\n",
    "s4 = \"/(  _  )\\\\\"\n",
    "s5 = \"  ^^ ^^  \"\n",
    "for i in range(1, n):\n",
    "    s1=s1+\" \"+s1\n",
    "    s2=s2+\" \"+s2\n",
    "    s3=s3+\" \"+s3\n",
    "    s4=s4+\" \"+s4\n",
    "    s5=s5+\" \"+s5\n",
    "print(s1)\n",
    "print(s2)\n",
    "print(s3)\n",
    "print(s4)\n",
    "print(s5)"
   ]
  },
  {
   "cell_type": "code",
   "execution_count": 3,
   "metadata": {},
   "outputs": [
    {
     "name": "stdout",
     "output_type": "stream",
     "text": [
      "7\n",
      "2698\n",
      "385\n"
     ]
    }
   ],
   "source": [
    "#Задача 3\n",
    "n = input()\n",
    "n = int(n)\n",
    "k = input()\n",
    "k = int(k)\n",
    "print(k//n)"
   ]
  },
  {
   "cell_type": "code",
   "execution_count": 6,
   "metadata": {},
   "outputs": [
    {
     "name": "stdout",
     "output_type": "stream",
     "text": [
      "3\n",
      "10\n",
      "1\n"
     ]
    }
   ],
   "source": [
    "#Задача 4\n",
    "n = input()\n",
    "n = int(n)\n",
    "k = input()\n",
    "k = int(k)\n",
    "print(k%n)"
   ]
  },
  {
   "cell_type": "code",
   "execution_count": 7,
   "metadata": {},
   "outputs": [
    {
     "name": "stdout",
     "output_type": "stream",
     "text": [
      "9\n",
      "512\n"
     ]
    }
   ],
   "source": [
    "#Задача 5\n",
    "n = input()\n",
    "n = int(n)\n",
    "print(2**n)"
   ]
  },
  {
   "cell_type": "code",
   "execution_count": 8,
   "metadata": {},
   "outputs": [
    {
     "name": "stdout",
     "output_type": "stream",
     "text": [
      "45678912\n",
      "2\n"
     ]
    }
   ],
   "source": [
    "#Задача 6\n",
    "n = input()\n",
    "n = int(n)\n",
    "print(n%10)"
   ]
  },
  {
   "cell_type": "code",
   "execution_count": 9,
   "metadata": {},
   "outputs": [
    {
     "name": "stdout",
     "output_type": "stream",
     "text": [
      "56\n",
      "5\n"
     ]
    }
   ],
   "source": [
    "#Задача 7\n",
    "n = input()\n",
    "n = int(n)\n",
    "print(n//10)"
   ]
  },
  {
   "cell_type": "code",
   "execution_count": 2,
   "metadata": {},
   "outputs": [
    {
     "name": "stdout",
     "output_type": "stream",
     "text": [
      "3\n",
      "0\n"
     ]
    }
   ],
   "source": [
    "#Задача 8\n",
    "n = input()\n",
    "n = int(n)\n",
    "print(n//10)"
   ]
  },
  {
   "cell_type": "code",
   "execution_count": null,
   "metadata": {},
   "outputs": [],
   "source": [
    "#Задача 9\n",
    "n = input()\n",
    "n = int(n)\n",
    "x1 = n%10\n",
    "n = n//10\n",
    "x2 = n%10\n",
    "n = n//10\n",
    "x3 = n%10\n",
    "n = n//10\n",
    "print(x1+x2+x3)"
   ]
  },
  {
   "cell_type": "code",
   "execution_count": null,
   "metadata": {},
   "outputs": [],
   "source": [
    "#Задача 10\n",
    "print(\"AAAAAAAAAAAAAAAAAAAAAAAAAAAAAAAAAAAAAAAAAAAAAAAAAAAAAAAAAAAAAAAAAAAAAAAAAAAAAAAAAAAA\")"
   ]
  },
  {
   "cell_type": "code",
   "execution_count": 4,
   "metadata": {},
   "outputs": [
    {
     "name": "stdout",
     "output_type": "stream",
     "text": [
      "120\n",
      "2  \n"
     ]
    }
   ],
   "source": [
    "#Задача 11\n",
    "n = input()\n",
    "n = int(n)\n",
    "x1 = n//60\n",
    "x1 = str(x1)\n",
    "x2 = n%60\n",
    "x2 = str(x2)\n",
    "print(x1+\" \"+\" \"x2)"
   ]
  },
  {
   "cell_type": "code",
   "execution_count": 7,
   "metadata": {},
   "outputs": [
    {
     "name": "stdout",
     "output_type": "stream",
     "text": [
      "10\n",
      "15\n",
      "2\n",
      "20 30\n"
     ]
    }
   ],
   "source": [
    "#Задача 12\n",
    "a = input()\n",
    "a = int(a)\n",
    "b = input()\n",
    "b = int(b)\n",
    "n = input()\n",
    "n = int(n)\n",
    "x = (a*100 + b)*n\n",
    "a = x // 100\n",
    "a = str(a)\n",
    "b = x % 100\n",
    "b = str(b)\n",
    "print(a+\" \"+b)"
   ]
  },
  {
   "cell_type": "code",
   "execution_count": null,
   "metadata": {},
   "outputs": [],
   "source": [
    "#Задача 13\n",
    "x = input()\n",
    "x = int(x)\n",
    "x2 = x+1\n",
    "x2 = str(x2)\n",
    "x0 = x-1\n",
    "x0 = str(x0)\n",
    "print(\"The next number for the number \"+x+\" is \"+x2+\".\")\n",
    "print(\"The previous number for the number \"+x+\" is \"+x0+\".\")"
   ]
  },
  {
   "cell_type": "code",
   "execution_count": 9,
   "metadata": {},
   "outputs": [
    {
     "name": "stdout",
     "output_type": "stream",
     "text": [
      "0\n",
      "1\n"
     ]
    }
   ],
   "source": [
    "#Задача 14\n",
    "x = input()\n",
    "x = int(x)\n",
    "if x==0:\n",
    "    print(\"1\")\n",
    "else:\n",
    "    print(\"0\")"
   ]
  },
  {
   "cell_type": "code",
   "execution_count": 13,
   "metadata": {},
   "outputs": [
    {
     "name": "stdout",
     "output_type": "stream",
     "text": [
      "9\n",
      "10\n"
     ]
    }
   ],
   "source": [
    "#Задача 15\n",
    "n = input()\n",
    "n = int(n)\n",
    "if n%2 == 0:\n",
    "    x = n+2\n",
    "else :\n",
    "    x = n+1\n",
    "print(x)"
   ]
  },
  {
   "cell_type": "code",
   "execution_count": 15,
   "metadata": {},
   "outputs": [
    {
     "name": "stdout",
     "output_type": "stream",
     "text": [
      "1\n"
     ]
    },
    {
     "ename": "MemoryError",
     "evalue": "",
     "output_type": "error",
     "traceback": [
      "\u001b[1;31m---------------------------------------------------------------------------\u001b[0m",
      "\u001b[1;31mMemoryError\u001b[0m                               Traceback (most recent call last)",
      "\u001b[1;32m<ipython-input-15-b3276f69b55f>\u001b[0m in \u001b[0;36m<module>\u001b[1;34m\u001b[0m\n\u001b[0;32m      3\u001b[0m \u001b[0mn\u001b[0m \u001b[1;33m=\u001b[0m \u001b[0mstr\u001b[0m\u001b[1;33m(\u001b[0m\u001b[0mn\u001b[0m\u001b[1;33m)\u001b[0m\u001b[1;33m\u001b[0m\u001b[1;33m\u001b[0m\u001b[0m\n\u001b[0;32m      4\u001b[0m \u001b[1;32mfor\u001b[0m \u001b[0mi\u001b[0m \u001b[1;32min\u001b[0m \u001b[0mrange\u001b[0m\u001b[1;33m(\u001b[0m\u001b[1;36m1\u001b[0m\u001b[1;33m,\u001b[0m \u001b[1;36m100\u001b[0m\u001b[1;33m)\u001b[0m\u001b[1;33m:\u001b[0m\u001b[1;33m\u001b[0m\u001b[1;33m\u001b[0m\u001b[0m\n\u001b[1;32m----> 5\u001b[1;33m     \u001b[0mn\u001b[0m \u001b[1;33m=\u001b[0m \u001b[0mn\u001b[0m\u001b[1;33m+\u001b[0m\u001b[0mn\u001b[0m\u001b[1;33m\u001b[0m\u001b[1;33m\u001b[0m\u001b[0m\n\u001b[0m\u001b[0;32m      6\u001b[0m \u001b[0mn\u001b[0m \u001b[1;33m=\u001b[0m \u001b[0mint\u001b[0m\u001b[1;33m(\u001b[0m\u001b[0mn\u001b[0m\u001b[1;33m)\u001b[0m\u001b[1;33m\u001b[0m\u001b[1;33m\u001b[0m\u001b[0m\n\u001b[0;32m      7\u001b[0m \u001b[0mn\u001b[0m \u001b[1;33m=\u001b[0m \u001b[0mn\u001b[0m\u001b[1;33m**\u001b[0m\u001b[1;36m2\u001b[0m\u001b[1;33m\u001b[0m\u001b[1;33m\u001b[0m\u001b[0m\n",
      "\u001b[1;31mMemoryError\u001b[0m: "
     ]
    }
   ],
   "source": [
    "#Задача 16\n",
    "n = input()\n",
    "n = str(n)\n",
    "for i in range(1, 100):\n",
    "    n = n+n\n",
    "n = int(n)\n",
    "n = n**2\n",
    "print(n)"
   ]
  },
  {
   "cell_type": "code",
   "execution_count": 17,
   "metadata": {},
   "outputs": [
    {
     "name": "stdout",
     "output_type": "stream",
     "text": [
      "0\n",
      "0\n",
      "0\n"
     ]
    }
   ],
   "source": [
    "#Задача 17\n",
    "v = input()\n",
    "v = int(v)\n",
    "t = input()\n",
    "t = int(t)\n",
    "s = 109;\n",
    "print((s + (v * t % s)) % s);"
   ]
  },
  {
   "cell_type": "code",
   "execution_count": 19,
   "metadata": {},
   "outputs": [
    {
     "name": "stdout",
     "output_type": "stream",
     "text": [
      "3602\n",
      "1:0:2\n"
     ]
    }
   ],
   "source": [
    "#Задача 18\n",
    "n = input()\n",
    "n = int(n)\n",
    "h = n//3600\n",
    "h = str(h)\n",
    "n = n%3600\n",
    "m = n//60\n",
    "m = str(m)\n",
    "s = n%60\n",
    "s = str(s)\n",
    "print(h+\":\"+m+\":\"+s)"
   ]
  },
  {
   "cell_type": "code",
   "execution_count": 25,
   "metadata": {},
   "outputs": [
    {
     "name": "stdout",
     "output_type": "stream",
     "text": [
      "1\n",
      "1\n",
      "1\n",
      "2\n",
      "2\n",
      "2\n",
      "3661\n"
     ]
    }
   ],
   "source": [
    "#Задача 19\n",
    "h0 = input()\n",
    "h0 = int(h0)\n",
    "m0 = input()\n",
    "m0 = int(m0)\n",
    "s0 = input()\n",
    "s0 = int(s0)\n",
    "x0 = h0*3600 + m0*60 + s0\n",
    "h1 = input()\n",
    "h1 = int(h1)\n",
    "m1 = input()\n",
    "m1 = int(m1)\n",
    "s1 = input()\n",
    "s1 = int(s1)\n",
    "x1 = h1*3600 + m1*60 + s1\n",
    "print(x1 - x0)"
   ]
  },
  {
   "cell_type": "code",
   "execution_count": 31,
   "metadata": {},
   "outputs": [
    {
     "name": "stdout",
     "output_type": "stream",
     "text": [
      "700\n",
      "750\n",
      "2\n"
     ]
    }
   ],
   "source": [
    "#Задача 20\n",
    "import math\n",
    "n = input()\n",
    "n = int(n)\n",
    "m = input()\n",
    "m = int(m)\n",
    "#print(math.ceil(m/n))\n",
    "x = math.ceil(m/n)\n",
    "print(x)"
   ]
  },
  {
   "cell_type": "code",
   "execution_count": null,
   "metadata": {},
   "outputs": [],
   "source": [
    "#Задача 21\n",
    "h = input()\n",
    "h = int(h)\n",
    "a = input()\n",
    "a = int(a)\n",
    "b = input()\n",
    "b = int(b)\n",
    "print((h-a)//(a-b)+1)"
   ]
  },
  {
   "cell_type": "code",
   "execution_count": null,
   "metadata": {},
   "outputs": [],
   "source": [
    "#Задача 22\n",
    "n = input()\n",
    "n = int(n)\n",
    "while n//1000 == 0:\n",
    "    n=n*10\n",
    "x1 = n//100\n",
    "x2 = n%100\n",
    "if x2 == x1 :\n",
    "    print(1)\n",
    "else :\n",
    "    print(2)"
   ]
  },
  {
   "cell_type": "code",
   "execution_count": null,
   "metadata": {},
   "outputs": [],
   "source": [
    "#Задача 23\n",
    "a=int(input())\n",
    "b=int(input())\n",
    "print((((a // b) * a) + ((b // a) * b)) // ((a // b) + (b // a)))"
   ]
  },
  {
   "cell_type": "code",
   "execution_count": null,
   "metadata": {},
   "outputs": [],
   "source": [
    "#Задача 24\n",
    "a=int(input())\n",
    "b=int(input())\n",
    "print((((a // b) * a) + ((b // a) * b)) // ((a // b) + (b // a)))"
   ]
  }
 ],
 "metadata": {
  "kernelspec": {
   "display_name": "Python 3",
   "language": "python",
   "name": "python3"
  },
  "language_info": {
   "codemirror_mode": {
    "name": "ipython",
    "version": 3
   },
   "file_extension": ".py",
   "mimetype": "text/x-python",
   "name": "python",
   "nbconvert_exporter": "python",
   "pygments_lexer": "ipython3",
   "version": "3.7.6"
  }
 },
 "nbformat": 4,
 "nbformat_minor": 4
}
